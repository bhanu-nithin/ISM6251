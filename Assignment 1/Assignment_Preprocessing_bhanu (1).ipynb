{
 "cells": [
  {
   "cell_type": "markdown",
   "id": "306a0d19",
   "metadata": {},
   "source": [
    "# Assignment 1.a\n",
    "# Manne Bhanu Nithin Yadav\n",
    "# U48976457\n",
    "\n",
    "## Pre Processing the data"
   ]
  },
  {
   "cell_type": "markdown",
   "id": "abe56566",
   "metadata": {},
   "source": [
    "### Aim :"
   ]
  },
  {
   "cell_type": "markdown",
   "id": "472df010",
   "metadata": {},
   "source": [
    "Now-a-days, default payments for each bill payments is increasing at an exponential rate. So, the aim of our analysis is to develop a model which helps in predicting the default payments and non-default payments according to the attributes provided.\n",
    "We will be performing different type of models and conclude which one can fit the data accurately"
   ]
  },
  {
   "cell_type": "markdown",
   "id": "b7218a4a",
   "metadata": {},
   "source": [
    "### Data description"
   ]
  },
  {
   "cell_type": "markdown",
   "id": "507e7019",
   "metadata": {},
   "source": [
    "The data consists of total of 30000 instances and 24 attributes. The target variable is 'default payment next month'. Here we will be considering all the attributes in order to predict the default payments."
   ]
  },
  {
   "cell_type": "markdown",
   "id": "98ad7290",
   "metadata": {},
   "source": [
    "### Importing required libraries "
   ]
  },
  {
   "cell_type": "code",
   "execution_count": 4,
   "id": "051f82e6",
   "metadata": {},
   "outputs": [],
   "source": [
    "import pandas as pd\n",
    "from matplotlib import pyplot as plt\n",
    "import numpy as np\n",
    "from sklearn import preprocessing\n",
    "from sklearn.preprocessing import StandardScaler\n",
    "from sklearn.model_selection import  train_test_split\n",
    "from sklearn.datasets import make_classification\n",
    "from collections import Counter\n",
    "np.random.seed(1)"
   ]
  },
  {
   "cell_type": "markdown",
   "id": "7910e2f0",
   "metadata": {},
   "source": [
    "### Below code is to get the path of the data"
   ]
  },
  {
   "cell_type": "code",
   "execution_count": 5,
   "id": "0e011cdd",
   "metadata": {},
   "outputs": [
    {
     "name": "stdout",
     "output_type": "stream",
     "text": [
      "C:\\Users\\ajayk\\Downloads\\Bhanu\n"
     ]
    }
   ],
   "source": [
    "import os\n",
    "print(os.getcwd())"
   ]
  },
  {
   "cell_type": "markdown",
   "id": "8a9161b6",
   "metadata": {},
   "source": [
    "### Importing the CSV file"
   ]
  },
  {
   "cell_type": "code",
   "execution_count": 6,
   "id": "51aea301",
   "metadata": {},
   "outputs": [
    {
     "data": {
      "text/html": [
       "<div>\n",
       "<style scoped>\n",
       "    .dataframe tbody tr th:only-of-type {\n",
       "        vertical-align: middle;\n",
       "    }\n",
       "\n",
       "    .dataframe tbody tr th {\n",
       "        vertical-align: top;\n",
       "    }\n",
       "\n",
       "    .dataframe thead th {\n",
       "        text-align: right;\n",
       "    }\n",
       "</style>\n",
       "<table border=\"1\" class=\"dataframe\">\n",
       "  <thead>\n",
       "    <tr style=\"text-align: right;\">\n",
       "      <th></th>\n",
       "      <th>ID</th>\n",
       "      <th>LIMIT_BAL</th>\n",
       "      <th>SEX</th>\n",
       "      <th>EDUCATION</th>\n",
       "      <th>MARRIAGE</th>\n",
       "      <th>AGE</th>\n",
       "      <th>PAY_0</th>\n",
       "      <th>PAY_2</th>\n",
       "      <th>PAY_3</th>\n",
       "      <th>PAY_4</th>\n",
       "      <th>...</th>\n",
       "      <th>BILL_AMT4</th>\n",
       "      <th>BILL_AMT5</th>\n",
       "      <th>BILL_AMT6</th>\n",
       "      <th>PAY_AMT1</th>\n",
       "      <th>PAY_AMT2</th>\n",
       "      <th>PAY_AMT3</th>\n",
       "      <th>PAY_AMT4</th>\n",
       "      <th>PAY_AMT5</th>\n",
       "      <th>PAY_AMT6</th>\n",
       "      <th>default payment next month</th>\n",
       "    </tr>\n",
       "  </thead>\n",
       "  <tbody>\n",
       "    <tr>\n",
       "      <th>1</th>\n",
       "      <td>1</td>\n",
       "      <td>20000</td>\n",
       "      <td>2</td>\n",
       "      <td>2</td>\n",
       "      <td>1</td>\n",
       "      <td>24</td>\n",
       "      <td>2</td>\n",
       "      <td>2</td>\n",
       "      <td>-1</td>\n",
       "      <td>-1</td>\n",
       "      <td>...</td>\n",
       "      <td>0</td>\n",
       "      <td>0</td>\n",
       "      <td>0</td>\n",
       "      <td>0</td>\n",
       "      <td>689</td>\n",
       "      <td>0</td>\n",
       "      <td>0</td>\n",
       "      <td>0</td>\n",
       "      <td>0</td>\n",
       "      <td>1</td>\n",
       "    </tr>\n",
       "    <tr>\n",
       "      <th>2</th>\n",
       "      <td>2</td>\n",
       "      <td>120000</td>\n",
       "      <td>2</td>\n",
       "      <td>2</td>\n",
       "      <td>2</td>\n",
       "      <td>26</td>\n",
       "      <td>-1</td>\n",
       "      <td>2</td>\n",
       "      <td>0</td>\n",
       "      <td>0</td>\n",
       "      <td>...</td>\n",
       "      <td>3272</td>\n",
       "      <td>3455</td>\n",
       "      <td>3261</td>\n",
       "      <td>0</td>\n",
       "      <td>1000</td>\n",
       "      <td>1000</td>\n",
       "      <td>1000</td>\n",
       "      <td>0</td>\n",
       "      <td>2000</td>\n",
       "      <td>1</td>\n",
       "    </tr>\n",
       "    <tr>\n",
       "      <th>3</th>\n",
       "      <td>3</td>\n",
       "      <td>90000</td>\n",
       "      <td>2</td>\n",
       "      <td>2</td>\n",
       "      <td>2</td>\n",
       "      <td>34</td>\n",
       "      <td>0</td>\n",
       "      <td>0</td>\n",
       "      <td>0</td>\n",
       "      <td>0</td>\n",
       "      <td>...</td>\n",
       "      <td>14331</td>\n",
       "      <td>14948</td>\n",
       "      <td>15549</td>\n",
       "      <td>1518</td>\n",
       "      <td>1500</td>\n",
       "      <td>1000</td>\n",
       "      <td>1000</td>\n",
       "      <td>1000</td>\n",
       "      <td>5000</td>\n",
       "      <td>0</td>\n",
       "    </tr>\n",
       "    <tr>\n",
       "      <th>4</th>\n",
       "      <td>4</td>\n",
       "      <td>50000</td>\n",
       "      <td>2</td>\n",
       "      <td>2</td>\n",
       "      <td>1</td>\n",
       "      <td>37</td>\n",
       "      <td>0</td>\n",
       "      <td>0</td>\n",
       "      <td>0</td>\n",
       "      <td>0</td>\n",
       "      <td>...</td>\n",
       "      <td>28314</td>\n",
       "      <td>28959</td>\n",
       "      <td>29547</td>\n",
       "      <td>2000</td>\n",
       "      <td>2019</td>\n",
       "      <td>1200</td>\n",
       "      <td>1100</td>\n",
       "      <td>1069</td>\n",
       "      <td>1000</td>\n",
       "      <td>0</td>\n",
       "    </tr>\n",
       "    <tr>\n",
       "      <th>5</th>\n",
       "      <td>5</td>\n",
       "      <td>50000</td>\n",
       "      <td>1</td>\n",
       "      <td>2</td>\n",
       "      <td>1</td>\n",
       "      <td>57</td>\n",
       "      <td>-1</td>\n",
       "      <td>0</td>\n",
       "      <td>-1</td>\n",
       "      <td>0</td>\n",
       "      <td>...</td>\n",
       "      <td>20940</td>\n",
       "      <td>19146</td>\n",
       "      <td>19131</td>\n",
       "      <td>2000</td>\n",
       "      <td>36681</td>\n",
       "      <td>10000</td>\n",
       "      <td>9000</td>\n",
       "      <td>689</td>\n",
       "      <td>679</td>\n",
       "      <td>0</td>\n",
       "    </tr>\n",
       "  </tbody>\n",
       "</table>\n",
       "<p>5 rows × 25 columns</p>\n",
       "</div>"
      ],
      "text/plain": [
       "0 ID LIMIT_BAL SEX EDUCATION MARRIAGE AGE PAY_0 PAY_2 PAY_3 PAY_4  ...  \\\n",
       "1  1     20000   2         2        1  24     2     2    -1    -1  ...   \n",
       "2  2    120000   2         2        2  26    -1     2     0     0  ...   \n",
       "3  3     90000   2         2        2  34     0     0     0     0  ...   \n",
       "4  4     50000   2         2        1  37     0     0     0     0  ...   \n",
       "5  5     50000   1         2        1  57    -1     0    -1     0  ...   \n",
       "\n",
       "0 BILL_AMT4 BILL_AMT5 BILL_AMT6 PAY_AMT1 PAY_AMT2 PAY_AMT3 PAY_AMT4 PAY_AMT5  \\\n",
       "1         0         0         0        0      689        0        0        0   \n",
       "2      3272      3455      3261        0     1000     1000     1000        0   \n",
       "3     14331     14948     15549     1518     1500     1000     1000     1000   \n",
       "4     28314     28959     29547     2000     2019     1200     1100     1069   \n",
       "5     20940     19146     19131     2000    36681    10000     9000      689   \n",
       "\n",
       "0 PAY_AMT6 default payment next month  \n",
       "1        0                          1  \n",
       "2     2000                          1  \n",
       "3     5000                          0  \n",
       "4     1000                          0  \n",
       "5      679                          0  \n",
       "\n",
       "[5 rows x 25 columns]"
      ]
     },
     "execution_count": 6,
     "metadata": {},
     "output_type": "execute_result"
    }
   ],
   "source": [
    "df = pd.read_csv(\"default-of-credit-card-clients.csv\")\n",
    "df.columns = df.iloc[0] ## to delete the first row as the main heading were in the 2nd row\n",
    "df = df.drop(0)\n",
    "df.head()"
   ]
  },
  {
   "cell_type": "code",
   "execution_count": 7,
   "id": "a1ed5458",
   "metadata": {},
   "outputs": [
    {
     "data": {
      "text/plain": [
       "(30000, 25)"
      ]
     },
     "execution_count": 7,
     "metadata": {},
     "output_type": "execute_result"
    }
   ],
   "source": [
    "df.shape"
   ]
  },
  {
   "cell_type": "code",
   "execution_count": 8,
   "id": "0c054df4",
   "metadata": {},
   "outputs": [
    {
     "data": {
      "text/plain": [
       "Index(['ID', 'LIMIT_BAL', 'SEX', 'EDUCATION', 'MARRIAGE', 'AGE', 'PAY_0',\n",
       "       'PAY_2', 'PAY_3', 'PAY_4', 'PAY_5', 'PAY_6', 'BILL_AMT1', 'BILL_AMT2',\n",
       "       'BILL_AMT3', 'BILL_AMT4', 'BILL_AMT5', 'BILL_AMT6', 'PAY_AMT1',\n",
       "       'PAY_AMT2', 'PAY_AMT3', 'PAY_AMT4', 'PAY_AMT5', 'PAY_AMT6',\n",
       "       'DEFAULT PAYMENT NEXT MONTH'],\n",
       "      dtype='object', name=0)"
      ]
     },
     "execution_count": 8,
     "metadata": {},
     "output_type": "execute_result"
    }
   ],
   "source": [
    "df.columns= df.columns.str.upper()\n",
    "df.columns"
   ]
  },
  {
   "cell_type": "markdown",
   "id": "006572bd",
   "metadata": {},
   "source": [
    "### To get details of number of columns and rows, type of entries in each attribute"
   ]
  },
  {
   "cell_type": "code",
   "execution_count": 9,
   "id": "28fec20c",
   "metadata": {},
   "outputs": [
    {
     "name": "stdout",
     "output_type": "stream",
     "text": [
      "<class 'pandas.core.frame.DataFrame'>\n",
      "RangeIndex: 30000 entries, 1 to 30000\n",
      "Data columns (total 25 columns):\n",
      " #   Column                      Non-Null Count  Dtype \n",
      "---  ------                      --------------  ----- \n",
      " 0   ID                          30000 non-null  object\n",
      " 1   LIMIT_BAL                   30000 non-null  object\n",
      " 2   SEX                         30000 non-null  object\n",
      " 3   EDUCATION                   30000 non-null  object\n",
      " 4   MARRIAGE                    30000 non-null  object\n",
      " 5   AGE                         30000 non-null  object\n",
      " 6   PAY_0                       30000 non-null  object\n",
      " 7   PAY_2                       30000 non-null  object\n",
      " 8   PAY_3                       30000 non-null  object\n",
      " 9   PAY_4                       30000 non-null  object\n",
      " 10  PAY_5                       30000 non-null  object\n",
      " 11  PAY_6                       30000 non-null  object\n",
      " 12  BILL_AMT1                   30000 non-null  object\n",
      " 13  BILL_AMT2                   30000 non-null  object\n",
      " 14  BILL_AMT3                   30000 non-null  object\n",
      " 15  BILL_AMT4                   30000 non-null  object\n",
      " 16  BILL_AMT5                   30000 non-null  object\n",
      " 17  BILL_AMT6                   30000 non-null  object\n",
      " 18  PAY_AMT1                    30000 non-null  object\n",
      " 19  PAY_AMT2                    30000 non-null  object\n",
      " 20  PAY_AMT3                    30000 non-null  object\n",
      " 21  PAY_AMT4                    30000 non-null  object\n",
      " 22  PAY_AMT5                    30000 non-null  object\n",
      " 23  PAY_AMT6                    30000 non-null  object\n",
      " 24  DEFAULT PAYMENT NEXT MONTH  30000 non-null  object\n",
      "dtypes: object(25)\n",
      "memory usage: 5.7+ MB\n"
     ]
    }
   ],
   "source": [
    "df.info()"
   ]
  },
  {
   "cell_type": "markdown",
   "id": "ae8f1db3",
   "metadata": {},
   "source": [
    "### we will be getting the descriptive analysis of the data "
   ]
  },
  {
   "cell_type": "code",
   "execution_count": 10,
   "id": "03bd7802",
   "metadata": {},
   "outputs": [
    {
     "data": {
      "text/html": [
       "<div>\n",
       "<style scoped>\n",
       "    .dataframe tbody tr th:only-of-type {\n",
       "        vertical-align: middle;\n",
       "    }\n",
       "\n",
       "    .dataframe tbody tr th {\n",
       "        vertical-align: top;\n",
       "    }\n",
       "\n",
       "    .dataframe thead th {\n",
       "        text-align: right;\n",
       "    }\n",
       "</style>\n",
       "<table border=\"1\" class=\"dataframe\">\n",
       "  <thead>\n",
       "    <tr style=\"text-align: right;\">\n",
       "      <th></th>\n",
       "      <th>ID</th>\n",
       "      <th>LIMIT_BAL</th>\n",
       "      <th>SEX</th>\n",
       "      <th>EDUCATION</th>\n",
       "      <th>MARRIAGE</th>\n",
       "      <th>AGE</th>\n",
       "      <th>PAY_0</th>\n",
       "      <th>PAY_2</th>\n",
       "      <th>PAY_3</th>\n",
       "      <th>PAY_4</th>\n",
       "      <th>...</th>\n",
       "      <th>BILL_AMT4</th>\n",
       "      <th>BILL_AMT5</th>\n",
       "      <th>BILL_AMT6</th>\n",
       "      <th>PAY_AMT1</th>\n",
       "      <th>PAY_AMT2</th>\n",
       "      <th>PAY_AMT3</th>\n",
       "      <th>PAY_AMT4</th>\n",
       "      <th>PAY_AMT5</th>\n",
       "      <th>PAY_AMT6</th>\n",
       "      <th>DEFAULT PAYMENT NEXT MONTH</th>\n",
       "    </tr>\n",
       "  </thead>\n",
       "  <tbody>\n",
       "    <tr>\n",
       "      <th>count</th>\n",
       "      <td>30000</td>\n",
       "      <td>30000</td>\n",
       "      <td>30000</td>\n",
       "      <td>30000</td>\n",
       "      <td>30000</td>\n",
       "      <td>30000</td>\n",
       "      <td>30000</td>\n",
       "      <td>30000</td>\n",
       "      <td>30000</td>\n",
       "      <td>30000</td>\n",
       "      <td>...</td>\n",
       "      <td>30000</td>\n",
       "      <td>30000</td>\n",
       "      <td>30000</td>\n",
       "      <td>30000</td>\n",
       "      <td>30000</td>\n",
       "      <td>30000</td>\n",
       "      <td>30000</td>\n",
       "      <td>30000</td>\n",
       "      <td>30000</td>\n",
       "      <td>30000</td>\n",
       "    </tr>\n",
       "    <tr>\n",
       "      <th>unique</th>\n",
       "      <td>30000</td>\n",
       "      <td>81</td>\n",
       "      <td>2</td>\n",
       "      <td>7</td>\n",
       "      <td>4</td>\n",
       "      <td>56</td>\n",
       "      <td>11</td>\n",
       "      <td>11</td>\n",
       "      <td>11</td>\n",
       "      <td>11</td>\n",
       "      <td>...</td>\n",
       "      <td>21548</td>\n",
       "      <td>21010</td>\n",
       "      <td>20604</td>\n",
       "      <td>7943</td>\n",
       "      <td>7899</td>\n",
       "      <td>7518</td>\n",
       "      <td>6937</td>\n",
       "      <td>6897</td>\n",
       "      <td>6939</td>\n",
       "      <td>2</td>\n",
       "    </tr>\n",
       "    <tr>\n",
       "      <th>top</th>\n",
       "      <td>1</td>\n",
       "      <td>50000</td>\n",
       "      <td>2</td>\n",
       "      <td>2</td>\n",
       "      <td>2</td>\n",
       "      <td>29</td>\n",
       "      <td>0</td>\n",
       "      <td>0</td>\n",
       "      <td>0</td>\n",
       "      <td>0</td>\n",
       "      <td>...</td>\n",
       "      <td>0</td>\n",
       "      <td>0</td>\n",
       "      <td>0</td>\n",
       "      <td>0</td>\n",
       "      <td>0</td>\n",
       "      <td>0</td>\n",
       "      <td>0</td>\n",
       "      <td>0</td>\n",
       "      <td>0</td>\n",
       "      <td>0</td>\n",
       "    </tr>\n",
       "    <tr>\n",
       "      <th>freq</th>\n",
       "      <td>1</td>\n",
       "      <td>3365</td>\n",
       "      <td>18112</td>\n",
       "      <td>14030</td>\n",
       "      <td>15964</td>\n",
       "      <td>1605</td>\n",
       "      <td>14737</td>\n",
       "      <td>15730</td>\n",
       "      <td>15764</td>\n",
       "      <td>16455</td>\n",
       "      <td>...</td>\n",
       "      <td>3195</td>\n",
       "      <td>3506</td>\n",
       "      <td>4020</td>\n",
       "      <td>5249</td>\n",
       "      <td>5396</td>\n",
       "      <td>5968</td>\n",
       "      <td>6408</td>\n",
       "      <td>6703</td>\n",
       "      <td>7173</td>\n",
       "      <td>23364</td>\n",
       "    </tr>\n",
       "  </tbody>\n",
       "</table>\n",
       "<p>4 rows × 25 columns</p>\n",
       "</div>"
      ],
      "text/plain": [
       "0          ID LIMIT_BAL    SEX EDUCATION MARRIAGE    AGE  PAY_0  PAY_2  PAY_3  \\\n",
       "count   30000     30000  30000     30000    30000  30000  30000  30000  30000   \n",
       "unique  30000        81      2         7        4     56     11     11     11   \n",
       "top         1     50000      2         2        2     29      0      0      0   \n",
       "freq        1      3365  18112     14030    15964   1605  14737  15730  15764   \n",
       "\n",
       "0       PAY_4  ... BILL_AMT4 BILL_AMT5 BILL_AMT6 PAY_AMT1 PAY_AMT2 PAY_AMT3  \\\n",
       "count   30000  ...     30000     30000     30000    30000    30000    30000   \n",
       "unique     11  ...     21548     21010     20604     7943     7899     7518   \n",
       "top         0  ...         0         0         0        0        0        0   \n",
       "freq    16455  ...      3195      3506      4020     5249     5396     5968   \n",
       "\n",
       "0      PAY_AMT4 PAY_AMT5 PAY_AMT6 DEFAULT PAYMENT NEXT MONTH  \n",
       "count     30000    30000    30000                      30000  \n",
       "unique     6937     6897     6939                          2  \n",
       "top           0        0        0                          0  \n",
       "freq       6408     6703     7173                      23364  \n",
       "\n",
       "[4 rows x 25 columns]"
      ]
     },
     "execution_count": 10,
     "metadata": {},
     "output_type": "execute_result"
    }
   ],
   "source": [
    "df.describe()"
   ]
  },
  {
   "cell_type": "markdown",
   "id": "df1c69ce",
   "metadata": {},
   "source": [
    "### This is used to check whether the data has any null/missing values "
   ]
  },
  {
   "cell_type": "code",
   "execution_count": 11,
   "id": "d838492a",
   "metadata": {},
   "outputs": [
    {
     "data": {
      "text/plain": [
       "0\n",
       "ID                            0\n",
       "LIMIT_BAL                     0\n",
       "SEX                           0\n",
       "EDUCATION                     0\n",
       "MARRIAGE                      0\n",
       "AGE                           0\n",
       "PAY_0                         0\n",
       "PAY_2                         0\n",
       "PAY_3                         0\n",
       "PAY_4                         0\n",
       "PAY_5                         0\n",
       "PAY_6                         0\n",
       "BILL_AMT1                     0\n",
       "BILL_AMT2                     0\n",
       "BILL_AMT3                     0\n",
       "BILL_AMT4                     0\n",
       "BILL_AMT5                     0\n",
       "BILL_AMT6                     0\n",
       "PAY_AMT1                      0\n",
       "PAY_AMT2                      0\n",
       "PAY_AMT3                      0\n",
       "PAY_AMT4                      0\n",
       "PAY_AMT5                      0\n",
       "PAY_AMT6                      0\n",
       "DEFAULT PAYMENT NEXT MONTH    0\n",
       "dtype: int64"
      ]
     },
     "execution_count": 11,
     "metadata": {},
     "output_type": "execute_result"
    }
   ],
   "source": [
    "df.isna().sum()"
   ]
  },
  {
   "cell_type": "markdown",
   "id": "a340e488",
   "metadata": {},
   "source": [
    "*** as there are no missing values in the data we are good to go with the futher cleaning process ***"
   ]
  },
  {
   "cell_type": "code",
   "execution_count": 12,
   "id": "783919bf",
   "metadata": {},
   "outputs": [
    {
     "data": {
      "text/plain": [
       "0\n",
       "ID                            False\n",
       "LIMIT_BAL                     False\n",
       "SEX                           False\n",
       "EDUCATION                     False\n",
       "MARRIAGE                      False\n",
       "AGE                           False\n",
       "PAY_0                         False\n",
       "PAY_2                         False\n",
       "PAY_3                         False\n",
       "PAY_4                         False\n",
       "PAY_5                         False\n",
       "PAY_6                         False\n",
       "BILL_AMT1                     False\n",
       "BILL_AMT2                     False\n",
       "BILL_AMT3                     False\n",
       "BILL_AMT4                     False\n",
       "BILL_AMT5                     False\n",
       "BILL_AMT6                     False\n",
       "PAY_AMT1                      False\n",
       "PAY_AMT2                      False\n",
       "PAY_AMT3                      False\n",
       "PAY_AMT4                      False\n",
       "PAY_AMT5                      False\n",
       "PAY_AMT6                      False\n",
       "DEFAULT PAYMENT NEXT MONTH    False\n",
       "dtype: bool"
      ]
     },
     "execution_count": 12,
     "metadata": {},
     "output_type": "execute_result"
    }
   ],
   "source": [
    "df.isnull().any()"
   ]
  },
  {
   "cell_type": "markdown",
   "id": "cbcb9384",
   "metadata": {},
   "source": [
    "### Checking whether we have any data imbalance in the target variable "
   ]
  },
  {
   "cell_type": "code",
   "execution_count": 13,
   "id": "58d3bdfd",
   "metadata": {},
   "outputs": [
    {
     "data": {
      "text/plain": [
       "0    23364\n",
       "1     6636\n",
       "Name: DEFAULT PAYMENT NEXT MONTH, dtype: int64"
      ]
     },
     "execution_count": 13,
     "metadata": {},
     "output_type": "execute_result"
    }
   ],
   "source": [
    "df['DEFAULT PAYMENT NEXT MONTH'].value_counts()"
   ]
  },
  {
   "cell_type": "code",
   "execution_count": 14,
   "id": "0508d033",
   "metadata": {},
   "outputs": [
    {
     "data": {
      "image/png": "[encoded data removed]",
      "text/plain": [
       "<Figure size 640x480 with 1 Axes>"
      ]
     },
     "metadata": {},
     "output_type": "display_data"
    }
   ],
   "source": [
    "plt.hist(df['DEFAULT PAYMENT NEXT MONTH'], bins=10)\n",
    "plt.title('Distribution of target variable')\n",
    "plt.xlabel('Target variable values')\n",
    "plt.ylabel('Frequency')\n",
    "plt.show()"
   ]
  },
  {
   "cell_type": "markdown",
   "id": "00968815",
   "metadata": {},
   "source": [
    "*** there is a significance difference in the binary values of the target variables so data imbalancing need to be performed***"
   ]
  },
  {
   "cell_type": "markdown",
   "id": "f5bf74c6",
   "metadata": {},
   "source": [
    "## Splitting the data into test and train sets"
   ]
  },
  {
   "cell_type": "code",
   "execution_count": 15,
   "id": "b7ccd2eb",
   "metadata": {},
   "outputs": [],
   "source": [
    "train_df, test_df = train_test_split(df, test_size=0.3, random_state=1)"
   ]
  },
  {
   "cell_type": "code",
   "execution_count": 16,
   "id": "2f1dd505",
   "metadata": {},
   "outputs": [],
   "source": [
    "target = 'DEFAULT PAYMENT NEXT MONTH'\n",
    "predictor = list(df.columns)\n",
    "predictor.remove(target)\n",
    "\n",
    "columns = list(df.columns)\n",
    "columns.remove('DEFAULT PAYMENT NEXT MONTH')\n",
    "\n",
    "y = df['DEFAULT PAYMENT NEXT MONTH']\n",
    "X = df[columns]"
   ]
  },
  {
   "cell_type": "code",
   "execution_count": 17,
   "id": "c9cc2b72",
   "metadata": {},
   "outputs": [],
   "source": [
    "train_X = train_df.drop(columns=['DEFAULT PAYMENT NEXT MONTH'])\n",
    "train_y = train_df['DEFAULT PAYMENT NEXT MONTH']\n",
    "test_X = test_df.drop(columns=['DEFAULT PAYMENT NEXT MONTH'])\n",
    "test_y = test_df['DEFAULT PAYMENT NEXT MONTH']"
   ]
  },
  {
   "cell_type": "markdown",
   "id": "e66761c7",
   "metadata": {},
   "source": [
    "### Saving the preprocessed data"
   ]
  },
  {
   "cell_type": "code",
   "execution_count": 18,
   "id": "52a448e5",
   "metadata": {},
   "outputs": [],
   "source": [
    "train_df.to_csv('default_train_df.csv', index=False)\n",
    "train_X.to_csv('default_train_X.csv', index=False)\n",
    "train_y.to_csv('default_train_y.csv', index=False)\n",
    "test_df.to_csv('default_test_df.csv', index=False)\n",
    "test_X.to_csv('default_test_X.csv', index=False)\n",
    "test_y.to_csv('default_test_y.csv', index=False)"
   ]
  },
  {
   "cell_type": "markdown",
   "id": "abae04a4",
   "metadata": {},
   "source": [
    "#### The splitted data is saved and we will be using this data for further model fitting"
   ]
  }
 ],
 "metadata": {
  "kernelspec": {
   "display_name": "Python 3 (ipykernel)",
   "language": "python",
   "name": "python3"
  },
  "language_info": {
   "codemirror_mode": {
    "name": "ipython",
    "version": 3
   },
   "file_extension": ".py",
   "mimetype": "text/x-python",
   "name": "python",
   "nbconvert_exporter": "python",
   "pygments_lexer": "ipython3",
   "version": "3.10.9"
  }
 },
 "nbformat": 4,
 "nbformat_minor": 5
}
